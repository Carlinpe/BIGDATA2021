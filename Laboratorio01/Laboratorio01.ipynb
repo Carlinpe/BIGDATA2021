{
  "cells": [
    {
      "cell_type": "markdown",
      "source": [
        "#Laboratorio 1\n",
        "```\n",
        "Curso     : Mineria de Datos 2021-2\n",
        "Docente   : CARLOS FERNANDO MONTOYA CUBAS\n",
        "Autor     : Carlos Enrique Quispe Chambilla\n",
        "Lugar     : Cusco, Perú, 2022.\n",
        "```"
      ],
      "metadata": {
        "id": "PA_RYjNoBtCi"
      }
    },
    {
      "cell_type": "markdown",
      "metadata": {
        "id": "1lHRFVZ-BJZr"
      },
      "source": [
        "### PySpark\n",
        "\n",
        "#### **Este notebook contiene:**\n",
        "#### *Parte 1:* Creación de una base RDD y RDD de tupla\n",
        "#### *Parte 2:* Manejo de RDD de tuplas\n",
        "#### *Parte 3:* Encontrar palabras sueltas y calcular promedios\n",
        "#### *Parte 4:* Aplicar el recuento de palabras a un archivo\n",
        "#### *Parte 5:* Similitud entre objetos"
      ]
    },
    {
      "cell_type": "markdown",
      "metadata": {
        "id": "Cde8ad1bBJZx"
      },
      "source": [
        "## Parte 1: Creación y manipulación de RDD"
      ]
    },
    {
      "cell_type": "markdown",
      "metadata": {
        "id": "ZLvLs35ABJZy"
      },
      "source": [
        "#### Creando una base RDD"
      ]
    },
    {
      "cell_type": "code",
      "source": [
        "! pip install pyspark"
      ],
      "metadata": {
        "id": "Xd8O119NLsVT"
      },
      "execution_count": null,
      "outputs": []
    },
    {
      "cell_type": "code",
      "execution_count": 3,
      "metadata": {
        "id": "g6QpT9BiBJZ1"
      },
      "outputs": [],
      "source": [
        "from pyspark.sql import SparkSession\n",
        "from pyspark.sql import SparkSession\n",
        "from pyspark import SparkContext\n",
        "spark = SparkSession.builder.appName('TF IDF')\\\n",
        "    .config('spark.master', 'local[4]')\\\n",
        "    .config('spark.shuffle.sql.partitions', 1)\\\n",
        "    .sc = SparkContext.getOrCreate()\n",
        "\n"
      ]
    },
    {
      "cell_type": "code",
      "execution_count": 4,
      "metadata": {
        "id": "aa6aZ1cNBJZ1"
      },
      "outputs": [],
      "source": [
        "import pyspark # only run after findspark.init()\n",
        "from pyspark import SparkContext\n",
        "sc = SparkContext.getOrCreate()"
      ]
    },
    {
      "cell_type": "code",
      "execution_count": 8,
      "metadata": {
        "id": "iJRaMy7uBJZ2",
        "outputId": "421b9fa0-e0af-440a-90ed-18f15ede76e7",
        "colab": {
          "base_uri": "https://localhost:8080/"
        }
      },
      "outputs": [
        {
          "output_type": "stream",
          "name": "stdout",
          "text": [
            "<class 'pyspark.rdd.RDD'>\n"
          ]
        }
      ],
      "source": [
        "ListaPalavras = ['gato', 'elefante', 'rato', 'rato', 'gato']\n",
        "palavrasRDD = sc.parallelize(ListaPalavras, 4)\n",
        "print(type(palavrasRDD))"
      ]
    },
    {
      "cell_type": "markdown",
      "metadata": {
        "id": "qdIYUQ1DBJZ4"
      },
      "source": [
        "#### Plural\n"
      ]
    },
    {
      "cell_type": "code",
      "execution_count": 10,
      "metadata": {
        "id": "C_AS5CZVBJZ5",
        "outputId": "06053078-9783-459d-9d98-7e765bcba8e6",
        "colab": {
          "base_uri": "https://localhost:8080/"
        }
      },
      "outputs": [
        {
          "output_type": "stream",
          "name": "stdout",
          "text": [
            "gatos\n"
          ]
        }
      ],
      "source": [
        "# EXERCICIO\n",
        "def Plural(palavra):\n",
        "    \"\"\"Adds an 's' to `palavra`.\n",
        "\n",
        "    Args:\n",
        "        palavra (str): A string.\n",
        "\n",
        "    Returns:\n",
        "        str: A string with 's' added to it.\n",
        "    \"\"\"\n",
        "    return f\"{palavra}s\"\n",
        "\n",
        "print(Plural('gato'))"
      ]
    },
    {
      "cell_type": "code",
      "execution_count": 11,
      "metadata": {
        "id": "QKX8GTMtBJZ6",
        "outputId": "1dd1356b-b701-4aa0-f275-c8a00bd132ce",
        "colab": {
          "base_uri": "https://localhost:8080/"
        }
      },
      "outputs": [
        {
          "output_type": "stream",
          "name": "stdout",
          "text": [
            "Help on function Plural in module __main__:\n",
            "\n",
            "Plural(palavra)\n",
            "    Adds an 's' to `palavra`.\n",
            "    \n",
            "    Args:\n",
            "        palavra (str): A string.\n",
            "    \n",
            "    Returns:\n",
            "        str: A string with 's' added to it.\n",
            "\n"
          ]
        }
      ],
      "source": [
        "help(Plural)"
      ]
    },
    {
      "cell_type": "code",
      "execution_count": 12,
      "metadata": {
        "id": "bAO6Rn8lBJZ6",
        "outputId": "a404aa0a-e637-4580-997a-06468ca39b37",
        "colab": {
          "base_uri": "https://localhost:8080/"
        }
      },
      "outputs": [
        {
          "output_type": "stream",
          "name": "stdout",
          "text": [
            "OK\n"
          ]
        }
      ],
      "source": [
        "assert Plural('rato')=='ratos', 'resultado incorreto!'\n",
        "print ('OK')"
      ]
    },
    {
      "cell_type": "markdown",
      "metadata": {
        "id": "VNQj9l36BJZ7"
      },
      "source": [
        "#### Aplicar la función a RDD\n"
      ]
    },
    {
      "cell_type": "code",
      "execution_count": 13,
      "metadata": {
        "id": "MZmHTgPVBJZ7",
        "outputId": "665d0c04-2137-4d3c-b198-9801d56c30b3",
        "colab": {
          "base_uri": "https://localhost:8080/"
        }
      },
      "outputs": [
        {
          "output_type": "stream",
          "name": "stdout",
          "text": [
            "['gatos', 'elefantes', 'ratos', 'ratos', 'gatos']\n"
          ]
        }
      ],
      "source": [
        "# Ejemplo\n",
        "pluralRDD = palavrasRDD.map(Plural)\n",
        "print (pluralRDD.collect())"
      ]
    },
    {
      "cell_type": "code",
      "execution_count": 14,
      "metadata": {
        "id": "VXddCvFhBJZ8",
        "outputId": "c5c6e4e8-fec1-4df4-da05-a4d0c23f7755",
        "colab": {
          "base_uri": "https://localhost:8080/"
        }
      },
      "outputs": [
        {
          "output_type": "stream",
          "name": "stdout",
          "text": [
            "OK\n"
          ]
        }
      ],
      "source": [
        "assert pluralRDD.collect()==['gatos','elefantes','ratos','ratos','gatos'], 'valores incorretos!'\n",
        "print ('OK')"
      ]
    },
    {
      "cell_type": "markdown",
      "metadata": {
        "id": "KOVGA7wyBJZ8"
      },
      "source": [
        "#### **Nota:** use el comando `collect()` solo cuando esté seguro de que la lista cabe en la memoria. Para guardar los resultados en un archivo de texto o base de datos, usaremos otro comando."
      ]
    },
    {
      "cell_type": "code",
      "execution_count": 15,
      "metadata": {
        "id": "G_q5X1UlBJZ9",
        "outputId": "213d8cf1-d63b-4c9a-f70c-20616ddba4aa",
        "colab": {
          "base_uri": "https://localhost:8080/"
        }
      },
      "outputs": [
        {
          "output_type": "stream",
          "name": "stdout",
          "text": [
            "['gatos', 'elefantes', 'ratos', 'ratos', 'gatos']\n"
          ]
        }
      ],
      "source": [
        "# Ejemplo\n",
        "pluralLambdaRDD = palavrasRDD.map(lambda x: f\"{x}s\")\n",
        "print (pluralLambdaRDD.collect())"
      ]
    },
    {
      "cell_type": "code",
      "execution_count": 16,
      "metadata": {
        "id": "0edoAcBJBJZ9",
        "outputId": "aef363d1-c92c-4363-f851-f25ff2341f44",
        "colab": {
          "base_uri": "https://localhost:8080/"
        }
      },
      "outputs": [
        {
          "output_type": "stream",
          "name": "stdout",
          "text": [
            "OK\n"
          ]
        }
      ],
      "source": [
        "assert pluralLambdaRDD.collect()==['gatos','elefantes','ratos','ratos','gatos'], 'valores incorretos!'\n",
        "print ('OK')"
      ]
    },
    {
      "cell_type": "code",
      "execution_count": 17,
      "metadata": {
        "id": "3LpCJg1CBJZ-",
        "outputId": "4298cb3b-1514-4293-dd08-8100a39fa7bd",
        "colab": {
          "base_uri": "https://localhost:8080/"
        }
      },
      "outputs": [
        {
          "output_type": "stream",
          "name": "stdout",
          "text": [
            "[5, 9, 5, 5, 5]\n"
          ]
        }
      ],
      "source": [
        "# Ejemplo\n",
        "pluralTamanho = (pluralRDD\n",
        "                 .map(lambda x:len(x))\n",
        "                 .collect()\n",
        "                 )\n",
        "print (pluralTamanho)"
      ]
    },
    {
      "cell_type": "code",
      "execution_count": 18,
      "metadata": {
        "id": "l0BhEGJsBJZ-",
        "outputId": "b2bc66c8-0e75-41a8-dadd-524270b5d826",
        "colab": {
          "base_uri": "https://localhost:8080/"
        }
      },
      "outputs": [
        {
          "output_type": "stream",
          "name": "stdout",
          "text": [
            "OK\n"
          ]
        }
      ],
      "source": [
        "assert pluralTamanho==[5,9,5,5,5], 'valores incorretos'\n",
        "print (\"OK\")"
      ]
    },
    {
      "cell_type": "code",
      "execution_count": 19,
      "metadata": {
        "id": "wQ2nzgbUBJZ_",
        "outputId": "45525cea-71d4-4cc9-9371-861276ba5dbd",
        "colab": {
          "base_uri": "https://localhost:8080/"
        }
      },
      "outputs": [
        {
          "output_type": "stream",
          "name": "stdout",
          "text": [
            "[('gato', 1), ('elefante', 1), ('rato', 1), ('rato', 1), ('gato', 1)]\n"
          ]
        }
      ],
      "source": [
        "# Ejemplo\n",
        "palavraPar = palavrasRDD.map(lambda x: (x, 1))\n",
        "print (palavraPar.collect())"
      ]
    },
    {
      "cell_type": "code",
      "execution_count": 20,
      "metadata": {
        "id": "f_3sjufTBJaA",
        "outputId": "dd59ae1a-65b0-4d78-d844-709876421c70",
        "colab": {
          "base_uri": "https://localhost:8080/"
        }
      },
      "outputs": [
        {
          "output_type": "stream",
          "name": "stdout",
          "text": [
            "OK\n"
          ]
        }
      ],
      "source": [
        "assert palavraPar.collect() == [('gato',1),('elefante',1),('rato',1),('rato',1),('gato',1)], 'valores incorretos!'\n",
        "print (\"OK\")"
      ]
    },
    {
      "cell_type": "markdown",
      "metadata": {
        "id": "k4a1O4hTBJaA"
      },
      "source": [
        "### **Parte 2: Manipulación de Tuplas RDD**"
      ]
    },
    {
      "cell_type": "markdown",
      "metadata": {
        "id": "yBAneJNbBJaA"
      },
      "source": [
        "#### Manipulemos nuestro RDD para contar las palabras en el texto."
      ]
    },
    {
      "cell_type": "code",
      "execution_count": 21,
      "metadata": {
        "id": "XeBKRckFBJaA",
        "outputId": "4f567c75-1b4f-4ac8-c0ad-b6aa5ee228b6",
        "colab": {
          "base_uri": "https://localhost:8080/"
        }
      },
      "outputs": [
        {
          "output_type": "stream",
          "name": "stdout",
          "text": [
            "elefante: [1]\n",
            "rato: [1, 1]\n",
            "gato: [1, 1]\n"
          ]
        }
      ],
      "source": [
        "# EXERCICIO\n",
        "palavrasGrupo = palavraPar.groupByKey()\n",
        "for chave, valor in palavrasGrupo.collect():\n",
        "    valores = list(valor)\n",
        "    print(f'{chave}: {valores}')"
      ]
    },
    {
      "cell_type": "code",
      "execution_count": 22,
      "metadata": {
        "id": "iubsYQZ0BJaB",
        "outputId": "3677968a-c3cb-46c0-896d-93110711c105",
        "colab": {
          "base_uri": "https://localhost:8080/"
        }
      },
      "outputs": [
        {
          "output_type": "stream",
          "name": "stdout",
          "text": [
            "OK\n"
          ]
        }
      ],
      "source": [
        "assert sorted(palavrasGrupo.mapValues(lambda x: list(x)).collect()) == [('elefante', [1]), ('gato',[1, 1]), ('rato',[1, 1])], 'Valores incorretos!'\n",
        "print (\"OK\")"
      ]
    },
    {
      "cell_type": "markdown",
      "metadata": {
        "id": "XBRFGw49BJaB"
      },
      "source": [
        "#### Cálculo de los recuentos\n"
      ]
    },
    {
      "cell_type": "code",
      "execution_count": 23,
      "metadata": {
        "id": "l5eTmkLMBJaB",
        "outputId": "76edcadf-414e-447b-dbdc-2d3c30f48bbc",
        "colab": {
          "base_uri": "https://localhost:8080/"
        }
      },
      "outputs": [
        {
          "output_type": "stream",
          "name": "stdout",
          "text": [
            "[('elefante', 1), ('rato', 2), ('gato', 2)]\n"
          ]
        }
      ],
      "source": [
        "# EXERCICIO\n",
        "contagemGroup = palavrasGrupo.map(lambda x:(x[0],sum(x[1])))\n",
        "print (contagemGroup.collect())"
      ]
    },
    {
      "cell_type": "code",
      "execution_count": 24,
      "metadata": {
        "id": "9WjdmklVBJaB",
        "outputId": "06af05d4-4b4f-46fd-c283-f693ba613199",
        "colab": {
          "base_uri": "https://localhost:8080/"
        }
      },
      "outputs": [
        {
          "output_type": "stream",
          "name": "stdout",
          "text": [
            "OK\n"
          ]
        }
      ],
      "source": [
        "assert sorted(contagemGroup.collect())==[('elefante',1), ('gato',2), ('rato',2)], 'valores incorretos!'\n",
        "print (\"OK\")"
      ]
    },
    {
      "cell_type": "markdown",
      "metadata": {
        "id": "dXXLobdABJaC"
      },
      "source": [
        "#### reduceByKey\n"
      ]
    },
    {
      "cell_type": "code",
      "execution_count": 25,
      "metadata": {
        "id": "Di-IiIhGBJaC",
        "outputId": "ee93e38a-abbb-4c4e-d749-89d1544a9d1a",
        "colab": {
          "base_uri": "https://localhost:8080/"
        }
      },
      "outputs": [
        {
          "output_type": "stream",
          "name": "stdout",
          "text": [
            "[('elefante', 1), ('rato', 2), ('gato', 2)]\n"
          ]
        }
      ],
      "source": [
        "# EXERCICIO\n",
        "contagem = palavraPar.reduceByKey(lambda x,y:x+y)\n",
        "print( contagem.collect())"
      ]
    },
    {
      "cell_type": "code",
      "execution_count": 26,
      "metadata": {
        "id": "Er99m4HRBJaC",
        "outputId": "686ca0cb-1063-438c-8583-b8ffa43dcfdf",
        "colab": {
          "base_uri": "https://localhost:8080/"
        }
      },
      "outputs": [
        {
          "output_type": "stream",
          "name": "stdout",
          "text": [
            "OK\n"
          ]
        }
      ],
      "source": [
        "assert sorted(contagem.collect())==[('elefante',1), ('gato',2), ('rato',2)], 'valores incorretos!'\n",
        "print (\"OK\")"
      ]
    },
    {
      "cell_type": "markdown",
      "metadata": {
        "id": "eZW61-wOBJaC"
      },
      "source": [
        "#### Comandos de agrupación\n",
        "\n",
        "#### La forma más común de realizar esta tarea, a partir de nuestras RDD RDDwords, es encadenar el mapa y los comandos reduceByKey en una línea de comando."
      ]
    },
    {
      "cell_type": "code",
      "execution_count": 28,
      "metadata": {
        "id": "dRstKTNjBJaD",
        "outputId": "59f4513f-51ac-49cd-eba0-f339551b5e62",
        "colab": {
          "base_uri": "https://localhost:8080/"
        }
      },
      "outputs": [
        {
          "output_type": "stream",
          "name": "stdout",
          "text": [
            "[('elefante', 1), ('rato', 2), ('gato', 2)]\n"
          ]
        }
      ],
      "source": [
        "# EXERCICIO\n",
        "contagemFinal = (palavrasRDD\n",
        "                 .map(lambda x: (x, 1)).reduceByKey(lambda x, y: x + y)\n",
        "                 .collect())                \n",
        "                 \n",
        "print (contagemFinal)"
      ]
    },
    {
      "cell_type": "code",
      "execution_count": 29,
      "metadata": {
        "id": "lxrpCLiaBJaD",
        "outputId": "3de67d3c-9907-4ed4-febd-e448f52d9ef1",
        "colab": {
          "base_uri": "https://localhost:8080/"
        }
      },
      "outputs": [
        {
          "output_type": "stream",
          "name": "stdout",
          "text": [
            "OK\n"
          ]
        }
      ],
      "source": [
        "assert sorted(contagemFinal)==[('elefante',1), ('gato',2), ('rato',2)], 'valores incorretos!'\n",
        "print (\"OK\")"
      ]
    },
    {
      "cell_type": "markdown",
      "metadata": {
        "id": "M7-X9iGWBJaD"
      },
      "source": [
        "### **Parte 3: Encontrar las palabras únicas y calcular el recuento promedio**"
      ]
    },
    {
      "cell_type": "markdown",
      "metadata": {
        "id": "HEAn2kQkBJaD"
      },
      "source": [
        "#### Palabras únicas"
      ]
    },
    {
      "cell_type": "code",
      "execution_count": 30,
      "metadata": {
        "id": "zysF8GruBJaD",
        "outputId": "bcceccbf-2753-4a76-af2c-eaab96bb69b8",
        "colab": {
          "base_uri": "https://localhost:8080/"
        }
      },
      "outputs": [
        {
          "output_type": "stream",
          "name": "stdout",
          "text": [
            "3\n"
          ]
        }
      ],
      "source": [
        "# EXERCICIO\n",
        "palavrasUnicas = palavrasRDD.distinct().count()\n",
        "print (palavrasUnicas)"
      ]
    },
    {
      "cell_type": "code",
      "execution_count": 31,
      "metadata": {
        "id": "Lzv5NNaXBJaE",
        "outputId": "81a4f1f6-3b49-4308-b087-7baa62435094",
        "colab": {
          "base_uri": "https://localhost:8080/"
        }
      },
      "outputs": [
        {
          "output_type": "stream",
          "name": "stdout",
          "text": [
            "OK\n"
          ]
        }
      ],
      "source": [
        "assert palavrasUnicas==3, 'valor incorreto!'\n",
        "print (\"OK\")"
      ]
    },
    {
      "cell_type": "markdown",
      "metadata": {
        "id": "coOd2fUnBJaE"
      },
      "source": [
        "#### Cálculo del recuento promedio de palabras"
      ]
    },
    {
      "cell_type": "code",
      "execution_count": null,
      "metadata": {
        "id": "TgAc5f6dBJaE",
        "outputId": "cfcd35a9-c3f9-48c8-f490-18e2c1809958"
      },
      "outputs": [
        {
          "name": "stdout",
          "output_type": "stream",
          "text": [
            "5\n",
            "1.67\n"
          ]
        }
      ],
      "source": [
        "# EXERCICIO\n",
        "# add é equivalente a lambda x,y: x+y\n",
        "from operator import add\n",
        "total = (contagem\n",
        "         .map(lambda x: x[1])\n",
        "         .reduce(add))\n",
        "media = total / float(palavrasUnicas)\n",
        "print (total)\n",
        "print (round(media, 2))"
      ]
    },
    {
      "cell_type": "code",
      "execution_count": null,
      "metadata": {
        "id": "Mxj5SbG1BJaE",
        "outputId": "8ad8d89e-e8b1-4b34-e110-ea9840c53dd6"
      },
      "outputs": [
        {
          "name": "stdout",
          "output_type": "stream",
          "text": [
            "OK\n"
          ]
        }
      ],
      "source": [
        "assert round(media, 2)==1.67, 'valores incorretos!'\n",
        "print (\"OK\")"
      ]
    },
    {
      "cell_type": "markdown",
      "metadata": {
        "id": "g0qCpdzDBJaF"
      },
      "source": [
        "### **Parte 4: Aplicar nuestro algoritmo a un archivo**"
      ]
    },
    {
      "cell_type": "markdown",
      "metadata": {
        "id": "3NOh8qRbBJaF"
      },
      "source": [
        "#### Función contaPalavras\n",
        "\n"
      ]
    },
    {
      "cell_type": "code",
      "execution_count": 32,
      "metadata": {
        "id": "G2AAa53NBJaF",
        "outputId": "186a724c-39bb-4121-f19b-b78896399188",
        "colab": {
          "base_uri": "https://localhost:8080/"
        }
      },
      "outputs": [
        {
          "output_type": "stream",
          "name": "stdout",
          "text": [
            "[('elefante', 1), ('rato', 2), ('gato', 2)]\n"
          ]
        }
      ],
      "source": [
        "# EXERCICIO\n",
        "def contaPalavras(chavesRDD):\n",
        "    \"\"\"Creates a pair RDD with word counts from an RDD of words.\n",
        "\n",
        "    Args:\n",
        "        chavesRDD (RDD of str): An RDD consisting of words.\n",
        "\n",
        "    Returns:\n",
        "        RDD of (str, int): An RDD consisting of (word, count) tuples.\n",
        "    \"\"\"\n",
        "    return (chavesRDD\n",
        "            .map(lambda x: (x, 1))\n",
        "            .reduceByKey(lambda x, y: x + y))\n",
        "\n",
        "print (contaPalavras(palavrasRDD).collect())"
      ]
    },
    {
      "cell_type": "code",
      "execution_count": 33,
      "metadata": {
        "id": "HpXMv5SLBJaF",
        "outputId": "d112282b-8d18-4a99-e249-734e3ca0d179",
        "colab": {
          "base_uri": "https://localhost:8080/"
        }
      },
      "outputs": [
        {
          "output_type": "stream",
          "name": "stdout",
          "text": [
            "OK\n"
          ]
        }
      ],
      "source": [
        "assert sorted(contaPalavras(palavrasRDD).collect())==[('elefante',1), ('gato',2), ('rato',2)], 'valores incorretos!'\n",
        "print (\"OK\")"
      ]
    },
    {
      "cell_type": "markdown",
      "metadata": {
        "id": "laramVROBJaF"
      },
      "source": [
        "#### Normalizando el texto \n"
      ]
    },
    {
      "cell_type": "code",
      "execution_count": null,
      "metadata": {
        "id": "TMZALNEoBJaG"
      },
      "outputs": [],
      "source": [
        "# EXERCICIO\n",
        "import re\n",
        "def removerPontuacao(texto):\n",
        "    \"\"\"Removes punctuation, changes to lower case, and strips leading and trailing spaces.\n",
        "\n",
        "    Note:\n",
        "        Only spaces, letters, and numbers should be retained.  Other characters should should be\n",
        "        eliminated (e.g. it's becomes its).  Leading and trailing spaces should be removed after\n",
        "        punctuation is removed.\n",
        "\n",
        "    Args:\n",
        "        texto (str): A string.\n",
        "\n",
        "    Returns:\n",
        "        str: The cleaned up string.\n",
        "    \"\"\"\n",
        "    return re.sub(r'[^A-Za-z0-9 ]', '', texto).strip().lower()\n",
        "print (removerPontuacao('Ola, quem esta ai??!'))\n",
        "print (removerPontuacao(' Sem espaco e_sublinhado!'))"
      ]
    },
    {
      "cell_type": "code",
      "execution_count": null,
      "metadata": {
        "id": "VG3H12mDBJaG"
      },
      "outputs": [],
      "source": [
        "assert removerPontuacao(' O uso de virgulas, embora permitido, nao deve contar. ')=='o uso de virgulas embora permitido nao deve contar', 'string incorreta!'\n",
        "print (\"OK\")"
      ]
    },
    {
      "cell_type": "markdown",
      "metadata": {
        "id": "7_-0XRvCBJaG"
      },
      "source": [
        "#### Ubicamos el dataset pg100.txt para importarlo"
      ]
    },
    {
      "cell_type": "code",
      "execution_count": 36,
      "metadata": {
        "id": "GAnFrHSiBJaG"
      },
      "outputs": [],
      "source": [
        "# Encontrar la Ruta e importar el data.txt\n",
        "RutaArchivo = \"D:/Cursos Hechos/40.- Mineria de Datos/Datasets/pg100.txt\"\n"
      ]
    },
    {
      "cell_type": "code",
      "execution_count": null,
      "metadata": {
        "id": "yoC3oXdlBJaH"
      },
      "outputs": [],
      "source": [
        "# Apenas execute a célula\n",
        "import os.path\n",
        "\n",
        "arquivo = os.path.join(RutaArchivo) \n",
        "\n",
        "# lê o arquivo com textFile e aplica a função removerPontuacao        \n",
        "shakesRDD = (sc\n",
        "             .textFile(arquivo, 8)\n",
        "             .map(removerPontuacao)\n",
        "             )\n",
        "\n",
        "# zipWithIndex gera tuplas (conteudo, indice) onde indice é a posição do conteudo na lista sequencial\n",
        "# Ex.: sc.parallelize(['gato','cachorro','boi']).zipWithIndex() ==> [('gato',0), ('cachorro',1), ('boi',2)]\n",
        "# sep.join() junta as strings de uma lista através do separador sep. Ex.: ','.join(['a','b','c']) ==> 'a,b,c'\n",
        "print ('\\n'.join(shakesRDD\n",
        "                .zipWithIndex()\n",
        "                .map(lambda linha: '{0}: {1}'.format(linha[0],linha[1]))\n",
        "                .take(15)\n",
        "               ))"
      ]
    },
    {
      "cell_type": "markdown",
      "metadata": {
        "id": "6dvnqvroBJaH"
      },
      "source": [
        "#### Extrayendo las palabras\n"
      ]
    },
    {
      "cell_type": "code",
      "execution_count": null,
      "metadata": {
        "id": "yOWso4MSBJaH"
      },
      "outputs": [],
      "source": [
        "# EXERCICIO\n",
        "shakesPalavrasRDD = shakesRDD.flatMap(lambda x: x.split(\" \"))\n",
        "total = shakesPalavrasRDD.count()\n",
        "print (shakesPalavrasRDD.take(5))\n",
        "print (total)"
      ]
    },
    {
      "cell_type": "markdown",
      "metadata": {
        "id": "JXk-Xh_HBJaH"
      },
      "source": [
        "#### Como habrás notado, el uso de la función map() genera una lista para cada línea, creando un RDD que contiene una lista de listas.\n"
      ]
    },
    {
      "cell_type": "code",
      "execution_count": null,
      "metadata": {
        "id": "xbH81N2YBJaH",
        "outputId": "7800990b-d620-4648-93a3-bc9e51f2cdfb"
      },
      "outputs": [
        {
          "name": "stdout",
          "output_type": "stream",
          "text": [
            "['project', 'gutenbergs', 'the', 'complete', 'works']\n",
            "959359\n"
          ]
        }
      ],
      "source": [
        "# EXERCICIO\n",
        "shakesPalavrasRDD = shakesRDD.flatMap(lambda x: x.split())\n",
        "total = shakesPalavrasRDD.count()\n",
        "print (shakesPalavrasRDD.take(5))\n",
        "print (total)"
      ]
    },
    {
      "cell_type": "code",
      "execution_count": null,
      "metadata": {
        "id": "pw3hbSuyBJaI"
      },
      "outputs": [],
      "source": [
        "assert total==959359, \"valor incorreto de palavras!\"\n",
        "print (\"OK\")\n",
        "assert shakesPalavrasRDD.take(5)==['project', 'gutenbergs', 'the', 'complete', 'works'],'lista incorreta de palavras'\n",
        "print (\"OK\")"
      ]
    },
    {
      "cell_type": "markdown",
      "metadata": {
        "id": "K6CNY18tBJaI"
      },
      "source": [
        "#### Número de palabras"
      ]
    },
    {
      "cell_type": "code",
      "execution_count": null,
      "metadata": {
        "id": "ysJbmCLmBJaI"
      },
      "outputs": [],
      "source": [
        "# EXERCICIO\n",
        "top15 = contaPalavras(shakesPalavrasRDD).sortBy(lambda x: x[1], ascending=False).take(15)\n",
        "print ('\\n'.join(map(lambda x: f'{x[0]}: {x[1]}', top15)))"
      ]
    },
    {
      "cell_type": "code",
      "execution_count": null,
      "metadata": {
        "id": "vs1T5mKmBJaJ"
      },
      "outputs": [],
      "source": [
        "assert top15 == [('the', 29996), ('and', 28353), ('i', 21860), ('to', 20885), ('of', 18811), ('a', 15992), ('you', 14439), ('my', 13191), ('in', 12027), ('that', 11782), ('is', 9711), ('not', 9068), ('with', 8521), ('me', 8271), ('for', 8184)],'valores incorretos!'\n",
        "print (\"OK\")"
      ]
    },
    {
      "cell_type": "markdown",
      "metadata": {
        "id": "axgg6hPkBJaJ"
      },
      "source": [
        "### **Parte 5: Similaridad entre Objetos**"
      ]
    },
    {
      "cell_type": "markdown",
      "metadata": {
        "id": "bMFliOuPBJaJ"
      },
      "source": [
        "### En esta parte del laboratorio aprenderemos a calcular la distancia entre atributos numéricos, categóricos y textuales."
      ]
    },
    {
      "cell_type": "markdown",
      "metadata": {
        "id": "Ffd_4ty3BJaJ"
      },
      "source": [
        "####  Vectores en el espacio euclidiano "
      ]
    },
    {
      "cell_type": "code",
      "execution_count": null,
      "metadata": {
        "id": "7ewV58CzBJaJ"
      },
      "outputs": [],
      "source": [
        "import numpy as np\n",
        "\n",
        "# Vamos criar uma função pNorm que recebe como parâmetro p e retorna uma função que calcula a pNorma\n",
        "def pNorm(p):\n",
        "    \"\"\"Generates a function to calculate the p-Norm between two points.\n",
        "\n",
        "    Args:\n",
        "        p (int): The integer p.\n",
        "\n",
        "    Returns:\n",
        "        Dist: A function that calculates the p-Norm.\n",
        "    \"\"\"\n",
        "\n",
        "    def Dist(x,y):\n",
        "        return np.power(np.power(np.abs(x-y),p).sum(),1/float(p))\n",
        "    return Dist"
      ]
    },
    {
      "cell_type": "code",
      "execution_count": null,
      "metadata": {
        "id": "CWZd9Sa5BJaK"
      },
      "outputs": [],
      "source": [
        "# Vamos criar uma RDD com valores numéricos\n",
        "np.random.seed(42)\n",
        "numPointsRDD = sc.parallelize(enumerate(np.random.random(size=(10,100))))"
      ]
    },
    {
      "cell_type": "code",
      "execution_count": null,
      "metadata": {
        "id": "2xTUUXnYBJaK",
        "outputId": "c7aebb2e-c074-4bff-feab-964085a1bd99"
      },
      "outputs": [
        {
          "name": "stdout",
          "output_type": "stream",
          "text": [
            "0.0 4.709048183663605 3.75119168897537\n"
          ]
        }
      ],
      "source": [
        "# EXERCICIO\n",
        "# Procure dentre os comandos do PySpark, um que consiga fazer o produto cartesiano da base com ela mesma\n",
        "cartPointsRDD = numPointsRDD.cartesian(numPointsRDD)\n",
        "\n",
        "# Aplique um mapa para transformar nossa RDD em uma RDD de tuplas ((id1,id2), (vetor1,vetor2))\n",
        "# DICA: primeiro utilize o comando take(1) e imprima o resultado para verificar o formato atual da RDD\n",
        "cartPointsParesRDD = cartPointsRDD.map(lambda x: ((x[0][0],x[1][0]), (x[0][1],x[1][1])))\n",
        "\n",
        "\n",
        "# Aplique um mapa para calcular a Distância Euclidiana entre os pares\n",
        "Euclid = pNorm(2)\n",
        "distRDD = cartPointsParesRDD.map(lambda x: (x[0], Euclid(x[1][0],x[1][1])))\n",
        "\n",
        "# Encontre a distância máxima, mínima e média, aplicando um mapa que transforma (chave,valor) --> valor\n",
        "# e utilizando os comandos internos do pyspark para o cálculo da min, max, mean\n",
        "statRDD = distRDD.map(lambda x: x[1])\n",
        "\n",
        "minv, maxv, meanv = statRDD.min(), statRDD.max(), statRDD.mean()\n",
        "print (minv, maxv, meanv)"
      ]
    },
    {
      "cell_type": "code",
      "execution_count": null,
      "metadata": {
        "id": "Uv-mVZTBBJaK"
      },
      "outputs": [],
      "source": [
        "assert (minv.round(2), maxv.round(2), meanv.round(2))==(0.0, 4.71, 3.75), 'Valores incorretos'\n",
        "print (\"OK\")"
      ]
    },
    {
      "cell_type": "markdown",
      "metadata": {
        "id": "EyWr5lIhBJaK"
      },
      "source": [
        "####  Valores Categóricos \n"
      ]
    },
    {
      "cell_type": "code",
      "execution_count": null,
      "metadata": {
        "id": "lId48WEFBJaK"
      },
      "outputs": [],
      "source": [
        "# Vamos criar uma função para calcular a distância de Hamming\n",
        "def Hamming(x,y):\n",
        "    \"\"\"Calculates the Hamming distance between two binary vectors.\n",
        "\n",
        "    Args:\n",
        "        x, y (np.array): Array of binary integers x and y.\n",
        "\n",
        "    Returns:\n",
        "        H (int): The Hamming distance between x and y.\n",
        "    \"\"\"\n",
        "    return (x!=y).sum()\n",
        "\n",
        "# Vamos criar uma função para calcular a distância de Jaccard\n",
        "def Jaccard(x,y):\n",
        "    \"\"\"Calculates the Jaccard distance between two binary vectors.\n",
        "\n",
        "    Args:\n",
        "        x, y (np.array): Array of binary integers x and y.\n",
        "\n",
        "    Returns:\n",
        "        J (int): The Jaccard distance between x and y.\n",
        "    \"\"\"\n",
        "    return (x==y).sum()/float( np.maximum(x,y).sum() )"
      ]
    },
    {
      "cell_type": "code",
      "execution_count": null,
      "metadata": {
        "id": "_yK45b1OBJaL"
      },
      "outputs": [],
      "source": [
        "# Vamos criar uma RDD com valores categóricos\n",
        "catPointsRDD = sc.parallelize(enumerate([['alto', 'caro', 'azul'],\n",
        "                             ['medio', 'caro', 'verde'],\n",
        "                             ['alto', 'barato', 'azul'],\n",
        "                             ['medio', 'caro', 'vermelho'],\n",
        "                             ['baixo', 'barato', 'verde'],\n",
        "                            ]))"
      ]
    },
    {
      "cell_type": "code",
      "execution_count": null,
      "metadata": {
        "id": "4Nv4EaSXBJaL",
        "outputId": "3dcc5475-efab-4f3e-d569-c2bace380964"
      },
      "outputs": [
        {
          "name": "stdout",
          "output_type": "stream",
          "text": [
            "{'caro': 0, 'azul': 0, 'baixo': 4, 'alto': 2, 'verde': 1, 'medio': 3, 'barato': 2, 'vermelho': 3} 8\n"
          ]
        }
      ],
      "source": [
        "# EXERCICIO\n",
        "# Crie um RDD de chaves únicas utilizando flatMap\n",
        "chavesRDD = (catPointsRDD\n",
        "             .flatMap(lambda x: [((x[0],xi),1) for xi in x[1]])\n",
        "             .reduceByKey(lambda x,y: x)\n",
        "             .map(lambda x: x[0])\n",
        "             )\n",
        "\n",
        "chaves = dict((v,k) for k,v in chavesRDD.collect())\n",
        "nchaves = len(chaves)\n",
        "print (chaves, nchaves)"
      ]
    },
    {
      "cell_type": "code",
      "execution_count": null,
      "metadata": {
        "id": "U19alkEhBJaL"
      },
      "outputs": [],
      "source": [
        "assert chaves=={'alto': 2, 'caro': 0, 'baixo': 4, 'verde': 1, 'azul': 2, 'medio': 3, 'barato': 4, 'vermelho': 3}\n",
        "#,'valores incorretos!'\n",
        "print (\"OK\")\n",
        "\n",
        "assert nchaves==8 \n",
        "#,'número de chaves incorreta'\n",
        "print (\"OK\")"
      ]
    },
    {
      "cell_type": "code",
      "execution_count": null,
      "metadata": {
        "id": "sTzMUqYABJaL"
      },
      "outputs": [],
      "source": [
        "def CreateNP(atributos,chaves):  \n",
        "    \"\"\"Binarize the categorical vector using a dictionary of keys.\n",
        "\n",
        "    Args:\n",
        "        atributos (list): List of attributes of a given object.\n",
        "        chaves (dict): dictionary with the relation attribute -> index\n",
        "\n",
        "    Returns:\n",
        "        array (np.array): Binary array of attributes.\n",
        "    \"\"\"\n",
        "    \n",
        "    array = np.zeros(len(chaves))\n",
        "    for atr in atributos:\n",
        "        array[ chaves[atr] ] = 1\n",
        "    return array\n",
        "\n",
        "# Converte o RDD para o formato binário, utilizando o dict chaves\n",
        "binRDD = catPointsRDD.map(lambda rec: (rec[0],CreateNP(rec[1], chaves)))\n",
        "binRDD.collect()"
      ]
    },
    {
      "cell_type": "code",
      "execution_count": null,
      "metadata": {
        "id": "VYE4dduhBJaL"
      },
      "outputs": [],
      "source": [
        "# EXERCICIO\n",
        "#Libreria Adicional\n",
        "import statistics as stats\n",
        "\n",
        "# Procure dentre os comandos do PySpark, um que consiga fazer o produto cartesiano da base com ela mesma\n",
        "cartBinRDD = binRDD.cartesian(binRDD)\n",
        "\n",
        "# Aplique um mapa para transformar nossa RDD em uma RDD de tuplas ((id1,id2), (vetor1,vetor2))\n",
        "# DICA: primeiro utilize o comando take(1) e imprima o resultado para verificar o formato atual da RDD\n",
        "cartBinParesRDD = cartBinRDD.map(lambda x: ((x[0][0],x[1][0]), (x[0][1],x[1][1])))\n",
        "\n",
        "# Aplique um mapa para calcular a Distância de Hamming e Jaccard entre os pares\n",
        "hamRDD = cartBinParesRDD.map(lambda x: (x[0], Hamming(x[1][0],x[1][1])))\n",
        "jacRDD = cartBinParesRDD.map(lambda x: (x[0], Jaccard(x[1][0],x[1][1])))\n",
        "\n",
        "# Encontre a distância máxima, mínima e média, aplicando um mapa que transforma (chave,valor) --> valor\n",
        "# e utilizando os comandos internos do pyspark para o cálculo da min, max, mean\n",
        "statHRDD = hamRDD.map(lambda x: x[1])\n",
        "statJRDD = jacRDD.map(lambda x: x[1])\n",
        "\n",
        "Hmin = min(statHRDD)\n",
        "Hmax = max(statHRDD)\n",
        "Hmean= mean(statHRDD)\n",
        "\n",
        "Jmin = min(statJRDD)\n",
        "Jmax =  max(statJRDD)\n",
        "Jmean = mean(statJRDD) \n",
        "\n",
        "print (\"\\t\\tMin\\tMax\\tMean\")\n",
        "print (\"Hamming:\\t{:.2f}\\t{:.2f}\\t{:.2f}\".format(Hmin, Hmax, Hmean ))\n",
        "print (\"Jaccard:\\t{:.2f}\\t{:.2f}\\t{:.2f}\".format( Jmin, Jmax, Jmean ))"
      ]
    },
    {
      "cell_type": "code",
      "execution_count": null,
      "metadata": {
        "id": "ZW1Nwb56BJaM"
      },
      "outputs": [],
      "source": [
        "assert (Hmin.round(2), Hmax.round(2), Hmean.round(2)) == (0.00,5.00,2.40), 'valores incorretos'\n",
        "print (\"OK\")\n",
        "assert (Jmin.round(2), Jmax.round(2), Jmean.round(2)) == (0.60,4.00,1.90), 'valores incorretos'\n",
        "print (\"OK\")"
      ]
    }
  ],
  "metadata": {
    "kernelspec": {
      "display_name": "Python 3 (ipykernel)",
      "language": "python",
      "name": "python3"
    },
    "language_info": {
      "codemirror_mode": {
        "name": "ipython",
        "version": 3
      },
      "file_extension": ".py",
      "mimetype": "text/x-python",
      "name": "python",
      "nbconvert_exporter": "python",
      "pygments_lexer": "ipython3",
      "version": "3.9.6"
    },
    "colab": {
      "name": "Laboratorio01.ipynb",
      "provenance": []
    }
  },
  "nbformat": 4,
  "nbformat_minor": 0
}