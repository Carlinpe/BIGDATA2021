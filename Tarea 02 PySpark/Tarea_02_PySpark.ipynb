{
  "cells": [
    {
      "cell_type": "markdown",
      "source": [
        "#PySpark\n",
        "```\n",
        "Curso     : Mineria de Datos 2021-2\n",
        "Docente   : CARLOS FERNANDO MONTOYA CUBAS\n",
        "Autor     : Carlos Enrique Quispe Chambilla\n",
        "Lugar     : Cusco, Perú, 2022.\n",
        "```"
      ],
      "metadata": {
        "id": "49QZSNM_CUJI"
      },
      "id": "49QZSNM_CUJI"
    },
    {
      "cell_type": "markdown",
      "source": [
        "### Instalar PySpark"
      ],
      "metadata": {
        "id": "q1Y2JBnbGMAF"
      },
      "id": "q1Y2JBnbGMAF"
    },
    {
      "cell_type": "code",
      "source": [
        "! pip install pyspark"
      ],
      "metadata": {
        "colab": {
          "base_uri": "https://localhost:8080/"
        },
        "id": "y9uOOOi_Dy3_",
        "outputId": "a0b1c711-66de-4772-d8b5-074bddf4c54b"
      },
      "id": "y9uOOOi_Dy3_",
      "execution_count": 6,
      "outputs": [
        {
          "output_type": "stream",
          "name": "stdout",
          "text": [
            "Collecting pyspark\n",
            "  Downloading pyspark-3.2.0.tar.gz (281.3 MB)\n",
            "\u001b[K     |████████████████████████████████| 281.3 MB 40 kB/s \n",
            "\u001b[?25hCollecting py4j==0.10.9.2\n",
            "  Downloading py4j-0.10.9.2-py2.py3-none-any.whl (198 kB)\n",
            "\u001b[K     |████████████████████████████████| 198 kB 54.2 MB/s \n",
            "\u001b[?25hBuilding wheels for collected packages: pyspark\n",
            "  Building wheel for pyspark (setup.py) ... \u001b[?25l\u001b[?25hdone\n",
            "  Created wheel for pyspark: filename=pyspark-3.2.0-py2.py3-none-any.whl size=281805912 sha256=ff4aee220ac4022b8c3e1fa6c26d01ea73539d81f11cc5f8a8ae1c9071f899ae\n",
            "  Stored in directory: /root/.cache/pip/wheels/0b/de/d2/9be5d59d7331c6c2a7c1b6d1a4f463ce107332b1ecd4e80718\n",
            "Successfully built pyspark\n",
            "Installing collected packages: py4j, pyspark\n",
            "Successfully installed py4j-0.10.9.2 pyspark-3.2.0\n"
          ]
        }
      ]
    },
    {
      "cell_type": "code",
      "source": [
        "# Importar libreria\n",
        "from pyspark import SparkContext\n",
        "sc = SparkContext()"
      ],
      "metadata": {
        "id": "hz1IKH8wETDv"
      },
      "id": "hz1IKH8wETDv",
      "execution_count": 7,
      "outputs": []
    },
    {
      "cell_type": "markdown",
      "id": "e2006080",
      "metadata": {
        "id": "e2006080"
      },
      "source": [
        "### 1. Similitud de Cosenos"
      ]
    },
    {
      "cell_type": "code",
      "execution_count": 19,
      "id": "78f64b4a",
      "metadata": {
        "id": "78f64b4a"
      },
      "outputs": [],
      "source": [
        "# Modulo para hallar la similitud de cosenos\n",
        "def sCosenos(x,y):\n",
        "    def punto(x,y):\n",
        "        return x.zip(y).map(lambda x: x[0]*x[1]).reduce(lambda x , y :x+y) \n",
        "    num = punto(x,y)\n",
        "    den=punto(x,x)*punto(y,y)\n",
        "    return num/den"
      ]
    },
    {
      "cell_type": "code",
      "execution_count": 20,
      "id": "1c8649b1",
      "metadata": {
        "id": "1c8649b1",
        "outputId": "78194d5e-1caf-44f6-dd98-98058f209c83",
        "colab": {
          "base_uri": "https://localhost:8080/"
        }
      },
      "outputs": [
        {
          "output_type": "stream",
          "name": "stdout",
          "text": [
            "5.1313658596339945e-06\n"
          ]
        }
      ],
      "source": [
        "x = sc.parallelize(range(0,50),4)\n",
        "y = sc.parallelize(range(100, 150),4)\n",
        "print(sCosenos(x,y))"
      ]
    },
    {
      "cell_type": "markdown",
      "id": "5d06257b",
      "metadata": {
        "id": "5d06257b"
      },
      "source": [
        "### 2. Escalonamiento"
      ]
    },
    {
      "cell_type": "code",
      "execution_count": 10,
      "id": "cd8c256f",
      "metadata": {
        "id": "cd8c256f"
      },
      "outputs": [],
      "source": [
        "# Modulo para determinar escalonamiento\n",
        "def escalonamiento(x):\n",
        "    minimo = x.min()\n",
        "    maximo = x.max()\n",
        "    lista= x.map(lambda xi : (xi-minimo)/(maximo-minimo))\n",
        "    return lista "
      ]
    },
    {
      "cell_type": "code",
      "execution_count": 11,
      "id": "46accf2f",
      "metadata": {
        "id": "46accf2f",
        "outputId": "0fd25329-4658-407a-df0a-98a1ac9f3463",
        "colab": {
          "base_uri": "https://localhost:8080/"
        }
      },
      "outputs": [
        {
          "output_type": "stream",
          "name": "stdout",
          "text": [
            "[0.0, 0.1111111111111111, 0.2222222222222222, 0.3333333333333333, 0.4444444444444444, 0.5555555555555556, 0.6666666666666666, 0.7777777777777778, 0.8888888888888888, 1.0]\n"
          ]
        }
      ],
      "source": [
        "Vec = sc.parallelize(range(25,35),4)\n",
        "VectorEs=escalonamiento(Vec)\n",
        "print(VectorEs.collect())"
      ]
    },
    {
      "cell_type": "markdown",
      "id": "a4a75f11",
      "metadata": {
        "id": "a4a75f11"
      },
      "source": [
        "### 3. Normalizacion"
      ]
    },
    {
      "cell_type": "code",
      "execution_count": 12,
      "id": "a61fa425",
      "metadata": {
        "id": "a61fa425"
      },
      "outputs": [],
      "source": [
        "import math\n",
        "# Modulo para determinar la normalizacion\n",
        "def normalizacion(x):\n",
        "    listaCuadrada=x.map(lambda xi:xi*xi)\n",
        "    total=listaCuadrada.sum()\n",
        "    val=math.sqrt(total)\n",
        "    lista= x.map(lambda xi :(xi/val))\n",
        "    return lista "
      ]
    },
    {
      "cell_type": "code",
      "execution_count": 13,
      "id": "37cd983b",
      "metadata": {
        "id": "37cd983b",
        "outputId": "08049139-abcf-4417-8fad-073dec18eb63",
        "colab": {
          "base_uri": "https://localhost:8080/"
        }
      },
      "outputs": [
        {
          "output_type": "stream",
          "name": "stdout",
          "text": [
            "[0.26672831766946736, 0.277397450376246, 0.28806658308302474, 0.2987357157898034, 0.3094048484965821, 0.32007398120336084, 0.3307431139101395, 0.3414122466169182, 0.3520813793236969, 0.3627505120304756]\n"
          ]
        }
      ],
      "source": [
        "Vec = sc.parallelize(range(25,35),4)\n",
        "VectorEs=normalizacion(Vec)\n",
        "print(VectorEs.collect())"
      ]
    },
    {
      "cell_type": "markdown",
      "id": "b161f03d",
      "metadata": {
        "id": "b161f03d"
      },
      "source": [
        "### 4. Binarizacion"
      ]
    },
    {
      "cell_type": "code",
      "execution_count": 14,
      "id": "709d0b42",
      "metadata": {
        "id": "709d0b42"
      },
      "outputs": [],
      "source": [
        "# Modulo para implementar el modelo binario\n",
        "def Binario(Doc):\n",
        "    val=map(lambda x:(x,1),Doc)\n",
        "    return list(val)"
      ]
    },
    {
      "cell_type": "code",
      "execution_count": 22,
      "id": "e58981e1",
      "metadata": {
        "id": "e58981e1",
        "outputId": "2b52d2d1-eb67-49f2-c914-f6ca3f891ddb",
        "colab": {
          "base_uri": "https://localhost:8080/"
        }
      },
      "outputs": [
        {
          "output_type": "stream",
          "name": "stdout",
          "text": [
            "[('nokia', 1), ('nokia', 1), ('nokia', 1), ('lg', 1), ('lg', 1), ('xiaomi', 1)]\n"
          ]
        },
        {
          "output_type": "execute_result",
          "data": {
            "text/plain": [
              "[[('nokia', 1),\n",
              "  ('nokia', 1),\n",
              "  ('nokia', 1),\n",
              "  ('lg', 1),\n",
              "  ('lg', 1),\n",
              "  ('xiaomi', 1)],\n",
              " [('xiaomi', 1), ('apple', 1), ('huawei', 1), ('huawei', 1), ('motorola', 1)],\n",
              " [('nokia', 1), ('samsung', 1), ('motorola', 1), ('motorola', 1)]]"
            ]
          },
          "metadata": {},
          "execution_count": 22
        }
      ],
      "source": [
        "L=[[\"nokia\",\"nokia\",\"nokia\",\"lg\",\"lg\",\"xiaomi\"]\n",
        "    ,[\"xiaomi\",\"apple\",\"huawei\",\"huawei\",\"motorola\"]\n",
        "    ,[\"nokia\",\"samsung\",\"motorola\",\"motorola\"]]\n",
        "Lista_Diccionario=L[0]\n",
        "print(Binario(Lista_Diccionario))\n",
        "Vec = sc.parallelize(L,4)\n",
        "Vec2 = Vec.map(lambda x:Binario(x))\n",
        "Vec2.collect()"
      ]
    },
    {
      "cell_type": "markdown",
      "id": "46f035c0",
      "metadata": {
        "id": "46f035c0"
      },
      "source": [
        "### 5. BAGOFWORDS"
      ]
    },
    {
      "cell_type": "code",
      "execution_count": 18,
      "id": "175e8ed9",
      "metadata": {
        "id": "175e8ed9",
        "outputId": "bfbc75c2-ea9f-4f7c-8304-7387b555dd25",
        "colab": {
          "base_uri": "https://localhost:8080/"
        }
      },
      "outputs": [
        {
          "output_type": "execute_result",
          "data": {
            "text/plain": [
              "[['nasa',\n",
              "  'entrena',\n",
              "  'una',\n",
              "  'inteligencia',\n",
              "  'artificial',\n",
              "  'para',\n",
              "  'detectar',\n",
              "  'nuevos',\n",
              "  'cráteres',\n",
              "  'martelos',\n",
              "  'investigadores',\n",
              "  'nasa',\n",
              "  'llevan',\n",
              "  'utilizando',\n",
              "  'algoritmo',\n",
              "  'aprendizaje',\n",
              "  'automático',\n",
              "  'para',\n",
              "  'descubrir',\n",
              "  'nuevos',\n",
              "  'cráteres',\n",
              "  'marcianos'],\n",
              " ['los',\n",
              "  'datos',\n",
              "  'estuvieron',\n",
              "  'ahí',\n",
              "  'todo',\n",
              "  'tiempo,',\n",
              "  'solo',\n",
              "  'que',\n",
              "  'los',\n",
              "  'habíamos',\n",
              "  'visto',\n",
              "  'nosotros',\n",
              "  'mismos']]"
            ]
          },
          "metadata": {},
          "execution_count": 18
        }
      ],
      "source": [
        "def bagofwords(Doc):\n",
        "    x=Doc.strip().lower().split()\n",
        "    return list(filter(lambda x:len(x)>2,x))\n",
        "Corpus=[\"La NASA entrena a una Inteligencia Artificial para detectar nuevos cráteres en Marte\"\n",
        "\"Los investigadores de la NASA llevan utilizando un algoritmo de aprendizaje automático para descubrir nuevos cráteres marcianos\",\n",
        "        \"Los datos estuvieron ahí todo el tiempo, es solo que no los habíamos visto nosotros mismos\"]\n",
        "Texto=sc.parallelize(Corpus,6)\n",
        "Texto=Texto.map(bagofwords)\n",
        "Texto.take(2)"
      ]
    }
  ],
  "metadata": {
    "kernelspec": {
      "display_name": "Python 3 (ipykernel)",
      "language": "python",
      "name": "python3"
    },
    "language_info": {
      "codemirror_mode": {
        "name": "ipython",
        "version": 3
      },
      "file_extension": ".py",
      "mimetype": "text/x-python",
      "name": "python",
      "nbconvert_exporter": "python",
      "pygments_lexer": "ipython3",
      "version": "3.8.10"
    },
    "colab": {
      "name": "Tarea_02_PySpark.ipynb",
      "provenance": []
    }
  },
  "nbformat": 4,
  "nbformat_minor": 5
}