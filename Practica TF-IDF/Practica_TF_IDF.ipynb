{
  "cells": [
    {
      "cell_type": "markdown",
      "id": "2960b370",
      "metadata": {
        "id": "2960b370"
      },
      "source": [
        "## Practica\n",
        "```\n",
        "Curso     : Mineria de Datos 2021-2\n",
        "Docente   : Carlos Fernando Montoya Cubas\n",
        "Autor     : Carlos Enrique Quispe Chambilla\n",
        "Lugar     : Cusco, Perú, 2022.\n",
        "Proposito : Implementar en un notebook pyspark usando mapreduce el algoritmo TF-IDF\n",
        "```"
      ]
    },
    {
      "cell_type": "code",
      "source": [
        "! pip install pyspark"
      ],
      "metadata": {
        "colab": {
          "base_uri": "https://localhost:8080/"
        },
        "id": "-Z0YSWypI2uE",
        "outputId": "4f9108b5-4d6b-4e45-dab3-425b1343f3c2"
      },
      "id": "-Z0YSWypI2uE",
      "execution_count": 2,
      "outputs": [
        {
          "output_type": "stream",
          "name": "stdout",
          "text": [
            "Collecting pyspark\n",
            "  Downloading pyspark-3.2.0.tar.gz (281.3 MB)\n",
            "\u001b[K     |████████████████████████████████| 281.3 MB 34 kB/s \n",
            "\u001b[?25hCollecting py4j==0.10.9.2\n",
            "  Downloading py4j-0.10.9.2-py2.py3-none-any.whl (198 kB)\n",
            "\u001b[K     |████████████████████████████████| 198 kB 42.9 MB/s \n",
            "\u001b[?25hBuilding wheels for collected packages: pyspark\n",
            "  Building wheel for pyspark (setup.py) ... \u001b[?25l\u001b[?25hdone\n",
            "  Created wheel for pyspark: filename=pyspark-3.2.0-py2.py3-none-any.whl size=281805912 sha256=efdec19a461a9303d3b99e9ccfaa595a4c814763d522f49ce14cc4260bfeea5d\n",
            "  Stored in directory: /root/.cache/pip/wheels/0b/de/d2/9be5d59d7331c6c2a7c1b6d1a4f463ce107332b1ecd4e80718\n",
            "Successfully built pyspark\n",
            "Installing collected packages: py4j, pyspark\n",
            "Successfully installed py4j-0.10.9.2 pyspark-3.2.0\n"
          ]
        }
      ]
    },
    {
      "cell_type": "markdown",
      "id": "41d59cec",
      "metadata": {
        "id": "41d59cec"
      },
      "source": [
        "## **Librerias**"
      ]
    },
    {
      "cell_type": "code",
      "execution_count": 4,
      "id": "af7fa282",
      "metadata": {
        "id": "af7fa282"
      },
      "outputs": [],
      "source": [
        "# Importacion de librerias principales\n",
        "import pyspark # only run after findspark.init()\n",
        "from pyspark.sql import SparkSession\n",
        "from pyspark import SparkContext\n",
        "spark = SparkSession.builder.appName('TF IDF')\\\n",
        "    .config('spark.master', 'local[4]')\\\n",
        "    .config('spark.shuffle.sql.partitions', 1)\\\n",
        "    .sc = SparkContext.getOrCreate()"
      ]
    },
    {
      "cell_type": "code",
      "execution_count": 5,
      "id": "ed205c98",
      "metadata": {
        "id": "ed205c98"
      },
      "outputs": [],
      "source": [
        "import pyspark # only run after findspark.init()\n",
        "from pyspark import SparkContext\n",
        "sc = SparkContext.getOrCreate()"
      ]
    },
    {
      "cell_type": "markdown",
      "id": "7b97c3de",
      "metadata": {
        "id": "7b97c3de"
      },
      "source": [
        "# **Datos de Prueba**"
      ]
    },
    {
      "cell_type": "code",
      "execution_count": 7,
      "id": "885174df",
      "metadata": {
        "id": "885174df",
        "outputId": "7a692ea3-0f45-4937-c33e-fde2c5c7a80c",
        "colab": {
          "base_uri": "https://localhost:8080/"
        }
      },
      "outputs": [
        {
          "output_type": "execute_result",
          "data": {
            "text/plain": [
              "[(1,\n",
              "  'La NASA está estudiando con inteligencia artificial los cráteres de Marte'),\n",
              " (2,\n",
              "  'los investigadores de la NASA irán integrando Inteligencia Artificial a las naves espaciales'),\n",
              " (3, 'se enseña al algoritmo a cómo detectar un nuevo cráter')]"
            ]
          },
          "metadata": {},
          "execution_count": 7
        }
      ],
      "source": [
        "data=[(1,'La NASA está estudiando con inteligencia artificial los cráteres de Marte'),(2,\"los investigadores de la NASA irán integrando Inteligencia Artificial a las naves espaciales\"),(3,\"se enseña al algoritmo a cómo detectar un nuevo cráter\")]\n",
        "lineas=sc.parallelize(data)\n",
        "lineas.collect()"
      ]
    },
    {
      "cell_type": "markdown",
      "id": "f6f6936d",
      "metadata": {
        "id": "f6f6936d"
      },
      "source": [
        "## Paso 1:"
      ]
    },
    {
      "cell_type": "code",
      "execution_count": 8,
      "id": "6e48969e",
      "metadata": {
        "id": "6e48969e",
        "outputId": "2d77d8d3-3c40-441d-9c2c-04f1f3de75dd",
        "colab": {
          "base_uri": "https://localhost:8080/"
        }
      },
      "outputs": [
        {
          "output_type": "execute_result",
          "data": {
            "text/plain": [
              "[((1, 'La'), 1),\n",
              " ((1, 'NASA'), 1),\n",
              " ((1, 'está'), 1),\n",
              " ((1, 'estudiando'), 1),\n",
              " ((1, 'con'), 1),\n",
              " ((1, 'inteligencia'), 1),\n",
              " ((1, 'artificial'), 1),\n",
              " ((1, 'los'), 1),\n",
              " ((1, 'cráteres'), 1),\n",
              " ((1, 'de'), 1),\n",
              " ((1, 'Marte'), 1),\n",
              " ((2, 'los'), 1),\n",
              " ((2, 'investigadores'), 1),\n",
              " ((2, 'de'), 1),\n",
              " ((2, 'la'), 1),\n",
              " ((2, 'NASA'), 1),\n",
              " ((2, 'irán'), 1),\n",
              " ((2, 'integrando'), 1),\n",
              " ((2, 'Inteligencia'), 1),\n",
              " ((2, 'Artificial'), 1),\n",
              " ((2, 'a'), 1),\n",
              " ((2, 'las'), 1),\n",
              " ((2, 'naves'), 1),\n",
              " ((2, 'espaciales'), 1),\n",
              " ((3, 'se'), 1),\n",
              " ((3, 'enseña'), 1),\n",
              " ((3, 'al'), 1),\n",
              " ((3, 'algoritmo'), 1),\n",
              " ((3, 'a'), 1),\n",
              " ((3, 'cómo'), 1),\n",
              " ((3, 'detectar'), 1),\n",
              " ((3, 'un'), 1),\n",
              " ((3, 'nuevo'), 1),\n",
              " ((3, 'cráter'), 1)]"
            ]
          },
          "metadata": {},
          "execution_count": 8
        }
      ],
      "source": [
        "# Usamos la transformacion\n",
        "map1=lineas.flatMap(lambda x: [((x[0],i),1) for i in x[1].split()])\n",
        "map1.collect()"
      ]
    },
    {
      "cell_type": "markdown",
      "id": "cdfdf4f5",
      "metadata": {
        "id": "cdfdf4f5"
      },
      "source": [
        "## Paso 2: "
      ]
    },
    {
      "cell_type": "code",
      "execution_count": 9,
      "id": "4bd942e3",
      "metadata": {
        "id": "4bd942e3",
        "outputId": "65094f47-f912-4a7f-931f-0e6ffd349397",
        "colab": {
          "base_uri": "https://localhost:8080/"
        }
      },
      "outputs": [
        {
          "output_type": "execute_result",
          "data": {
            "text/plain": [
              "[((1, 'La'), 1),\n",
              " ((1, 'está'), 1),\n",
              " ((1, 'de'), 1),\n",
              " ((1, 'Marte'), 1),\n",
              " ((2, 'los'), 1),\n",
              " ((2, 'NASA'), 1),\n",
              " ((2, 'irán'), 1),\n",
              " ((2, 'integrando'), 1),\n",
              " ((2, 'Artificial'), 1),\n",
              " ((2, 'espaciales'), 1),\n",
              " ((3, 'se'), 1),\n",
              " ((3, 'a'), 1),\n",
              " ((3, 'cómo'), 1),\n",
              " ((3, 'un'), 1),\n",
              " ((3, 'nuevo'), 1),\n",
              " ((1, 'NASA'), 1),\n",
              " ((1, 'estudiando'), 1),\n",
              " ((1, 'con'), 1),\n",
              " ((1, 'inteligencia'), 1),\n",
              " ((1, 'artificial'), 1),\n",
              " ((1, 'los'), 1),\n",
              " ((1, 'cráteres'), 1),\n",
              " ((2, 'investigadores'), 1),\n",
              " ((2, 'de'), 1),\n",
              " ((2, 'la'), 1),\n",
              " ((2, 'Inteligencia'), 1),\n",
              " ((2, 'a'), 1),\n",
              " ((2, 'las'), 1),\n",
              " ((2, 'naves'), 1),\n",
              " ((3, 'enseña'), 1),\n",
              " ((3, 'al'), 1),\n",
              " ((3, 'algoritmo'), 1),\n",
              " ((3, 'detectar'), 1),\n",
              " ((3, 'cráter'), 1)]"
            ]
          },
          "metadata": {},
          "execution_count": 9
        }
      ],
      "source": [
        "reduce=map1.reduceByKey(lambda x,y:x+y)\n",
        "reduce.collect()"
      ]
    },
    {
      "cell_type": "markdown",
      "id": "17b7a930",
      "metadata": {
        "id": "17b7a930"
      },
      "source": [
        "## Paso 3: \n"
      ]
    },
    {
      "cell_type": "code",
      "execution_count": 10,
      "id": "6cfd0542",
      "metadata": {
        "id": "6cfd0542",
        "outputId": "d453bf0e-3c3c-410b-f821-d222c4437bfd",
        "colab": {
          "base_uri": "https://localhost:8080/"
        }
      },
      "outputs": [
        {
          "output_type": "execute_result",
          "data": {
            "text/plain": [
              "[('La', (1, 1)),\n",
              " ('está', (1, 1)),\n",
              " ('de', (1, 1)),\n",
              " ('Marte', (1, 1)),\n",
              " ('los', (2, 1)),\n",
              " ('NASA', (2, 1)),\n",
              " ('irán', (2, 1)),\n",
              " ('integrando', (2, 1)),\n",
              " ('Artificial', (2, 1)),\n",
              " ('espaciales', (2, 1)),\n",
              " ('se', (3, 1)),\n",
              " ('a', (3, 1)),\n",
              " ('cómo', (3, 1)),\n",
              " ('un', (3, 1)),\n",
              " ('nuevo', (3, 1)),\n",
              " ('NASA', (1, 1)),\n",
              " ('estudiando', (1, 1)),\n",
              " ('con', (1, 1)),\n",
              " ('inteligencia', (1, 1)),\n",
              " ('artificial', (1, 1)),\n",
              " ('los', (1, 1)),\n",
              " ('cráteres', (1, 1)),\n",
              " ('investigadores', (2, 1)),\n",
              " ('de', (2, 1)),\n",
              " ('la', (2, 1)),\n",
              " ('Inteligencia', (2, 1)),\n",
              " ('a', (2, 1)),\n",
              " ('las', (2, 1)),\n",
              " ('naves', (2, 1)),\n",
              " ('enseña', (3, 1)),\n",
              " ('al', (3, 1)),\n",
              " ('algoritmo', (3, 1)),\n",
              " ('detectar', (3, 1)),\n",
              " ('cráter', (3, 1))]"
            ]
          },
          "metadata": {},
          "execution_count": 10
        }
      ],
      "source": [
        "tf=reduce.map(lambda x: (x[0][1],(x[0][0],x[1])))\n",
        "tf.collect()"
      ]
    },
    {
      "cell_type": "markdown",
      "id": "8f1c5439",
      "metadata": {
        "id": "8f1c5439"
      },
      "source": [
        "# **Calculo de la frecuencia inversa de Documentos (IDF)**\n"
      ]
    },
    {
      "cell_type": "code",
      "execution_count": 11,
      "id": "fde8236f",
      "metadata": {
        "id": "fde8236f",
        "outputId": "db583d80-9544-4a68-8717-b5a4f7588112",
        "colab": {
          "base_uri": "https://localhost:8080/"
        }
      },
      "outputs": [
        {
          "output_type": "execute_result",
          "data": {
            "text/plain": [
              "[('La', (1, 1, 1)),\n",
              " ('está', (1, 1, 1)),\n",
              " ('de', (1, 1, 1)),\n",
              " ('Marte', (1, 1, 1)),\n",
              " ('los', (2, 1, 1)),\n",
              " ('NASA', (2, 1, 1)),\n",
              " ('irán', (2, 1, 1)),\n",
              " ('integrando', (2, 1, 1)),\n",
              " ('Artificial', (2, 1, 1)),\n",
              " ('espaciales', (2, 1, 1)),\n",
              " ('se', (3, 1, 1)),\n",
              " ('a', (3, 1, 1)),\n",
              " ('cómo', (3, 1, 1)),\n",
              " ('un', (3, 1, 1)),\n",
              " ('nuevo', (3, 1, 1)),\n",
              " ('NASA', (1, 1, 1)),\n",
              " ('estudiando', (1, 1, 1)),\n",
              " ('con', (1, 1, 1)),\n",
              " ('inteligencia', (1, 1, 1)),\n",
              " ('artificial', (1, 1, 1)),\n",
              " ('los', (1, 1, 1)),\n",
              " ('cráteres', (1, 1, 1)),\n",
              " ('investigadores', (2, 1, 1)),\n",
              " ('de', (2, 1, 1)),\n",
              " ('la', (2, 1, 1)),\n",
              " ('Inteligencia', (2, 1, 1)),\n",
              " ('a', (2, 1, 1)),\n",
              " ('las', (2, 1, 1)),\n",
              " ('naves', (2, 1, 1)),\n",
              " ('enseña', (3, 1, 1)),\n",
              " ('al', (3, 1, 1)),\n",
              " ('algoritmo', (3, 1, 1)),\n",
              " ('detectar', (3, 1, 1)),\n",
              " ('cráter', (3, 1, 1))]"
            ]
          },
          "metadata": {},
          "execution_count": 11
        }
      ],
      "source": [
        "# Mapeo: a partir de identificador o id como clave del TF.\n",
        "map3=reduce.map(lambda x: (x[0][1],(x[0][0],x[1],1))) \n",
        "map3.collect()"
      ]
    },
    {
      "cell_type": "code",
      "execution_count": 12,
      "id": "d02bb362",
      "metadata": {
        "id": "d02bb362",
        "outputId": "6cf5d746-5f03-4f62-8ca8-ac2c1a84fde3",
        "colab": {
          "base_uri": "https://localhost:8080/"
        }
      },
      "outputs": [
        {
          "output_type": "execute_result",
          "data": {
            "text/plain": [
              "[('La', 1),\n",
              " ('está', 1),\n",
              " ('de', 1),\n",
              " ('Marte', 1),\n",
              " ('los', 1),\n",
              " ('NASA', 1),\n",
              " ('irán', 1),\n",
              " ('integrando', 1),\n",
              " ('Artificial', 1),\n",
              " ('espaciales', 1),\n",
              " ('se', 1),\n",
              " ('a', 1),\n",
              " ('cómo', 1),\n",
              " ('un', 1),\n",
              " ('nuevo', 1),\n",
              " ('NASA', 1),\n",
              " ('estudiando', 1),\n",
              " ('con', 1),\n",
              " ('inteligencia', 1),\n",
              " ('artificial', 1),\n",
              " ('los', 1),\n",
              " ('cráteres', 1),\n",
              " ('investigadores', 1),\n",
              " ('de', 1),\n",
              " ('la', 1),\n",
              " ('Inteligencia', 1),\n",
              " ('a', 1),\n",
              " ('las', 1),\n",
              " ('naves', 1),\n",
              " ('enseña', 1),\n",
              " ('al', 1),\n",
              " ('algoritmo', 1),\n",
              " ('detectar', 1),\n",
              " ('cráter', 1)]"
            ]
          },
          "metadata": {},
          "execution_count": 12
        }
      ],
      "source": [
        "# Aqui extraemos el token y el numero de contador de i como ocurrencia en ciertos documentos\n",
        "map4=map3.map(lambda x:(x[0],x[1][2])) \n",
        "map4.collect()"
      ]
    },
    {
      "cell_type": "code",
      "execution_count": 14,
      "id": "afa1a891",
      "metadata": {
        "id": "afa1a891",
        "outputId": "c777a166-0605-41d6-dca0-cfac8e7b0399",
        "colab": {
          "base_uri": "https://localhost:8080/"
        }
      },
      "outputs": [
        {
          "output_type": "execute_result",
          "data": {
            "text/plain": [
              "[('los', 2),\n",
              " ('NASA', 2),\n",
              " ('irán', 1),\n",
              " ('integrando', 1),\n",
              " ('Artificial', 1),\n",
              " ('espaciales', 1),\n",
              " ('estudiando', 1),\n",
              " ('con', 1),\n",
              " ('inteligencia', 1),\n",
              " ('artificial', 1),\n",
              " ('cráteres', 1),\n",
              " ('enseña', 1),\n",
              " ('al', 1),\n",
              " ('algoritmo', 1),\n",
              " ('detectar', 1),\n",
              " ('cráter', 1),\n",
              " ('La', 1),\n",
              " ('está', 1),\n",
              " ('de', 2),\n",
              " ('Marte', 1),\n",
              " ('se', 1),\n",
              " ('a', 2),\n",
              " ('cómo', 1),\n",
              " ('un', 1),\n",
              " ('nuevo', 1),\n",
              " ('investigadores', 1),\n",
              " ('la', 1),\n",
              " ('Inteligencia', 1),\n",
              " ('las', 1),\n",
              " ('naves', 1)]"
            ]
          },
          "metadata": {},
          "execution_count": 14
        }
      ],
      "source": [
        "reduce2=map4.reduceByKey(lambda x,y:x+y)\n",
        "reduce2.collect()"
      ]
    },
    {
      "cell_type": "code",
      "execution_count": 15,
      "id": "5fe1ed7a",
      "metadata": {
        "id": "5fe1ed7a",
        "outputId": "6ce53fd6-4de2-4d3d-fa85-986c10ecacc7",
        "colab": {
          "base_uri": "https://localhost:8080/"
        }
      },
      "outputs": [
        {
          "output_type": "execute_result",
          "data": {
            "text/plain": [
              "[('los', 0.17609125905568124),\n",
              " ('NASA', 0.17609125905568124),\n",
              " ('irán', 0.47712125471966244),\n",
              " ('integrando', 0.47712125471966244),\n",
              " ('Artificial', 0.47712125471966244),\n",
              " ('espaciales', 0.47712125471966244),\n",
              " ('estudiando', 0.47712125471966244),\n",
              " ('con', 0.47712125471966244),\n",
              " ('inteligencia', 0.47712125471966244),\n",
              " ('artificial', 0.47712125471966244),\n",
              " ('cráteres', 0.47712125471966244),\n",
              " ('enseña', 0.47712125471966244),\n",
              " ('al', 0.47712125471966244),\n",
              " ('algoritmo', 0.47712125471966244),\n",
              " ('detectar', 0.47712125471966244),\n",
              " ('cráter', 0.47712125471966244),\n",
              " ('La', 0.47712125471966244),\n",
              " ('está', 0.47712125471966244),\n",
              " ('de', 0.17609125905568124),\n",
              " ('Marte', 0.47712125471966244),\n",
              " ('se', 0.47712125471966244),\n",
              " ('a', 0.17609125905568124),\n",
              " ('cómo', 0.47712125471966244),\n",
              " ('un', 0.47712125471966244),\n",
              " ('nuevo', 0.47712125471966244),\n",
              " ('investigadores', 0.47712125471966244),\n",
              " ('la', 0.47712125471966244),\n",
              " ('Inteligencia', 0.47712125471966244),\n",
              " ('las', 0.47712125471966244),\n",
              " ('naves', 0.47712125471966244)]"
            ]
          },
          "metadata": {},
          "execution_count": 15
        }
      ],
      "source": [
        "import math\n",
        "from pyspark.sql.functions import *\n",
        "idf=reduce2.map(lambda x: (x[0],math.log10(len(data)/x[1])))\n",
        "idf.collect()"
      ]
    },
    {
      "cell_type": "markdown",
      "id": "9ee50649",
      "metadata": {
        "id": "9ee50649"
      },
      "source": [
        "# **Computacion TD-IDF**"
      ]
    },
    {
      "cell_type": "code",
      "execution_count": 16,
      "id": "a28a1205",
      "metadata": {
        "id": "a28a1205",
        "outputId": "4648ee0c-9855-4c3a-9f88-477a41979145",
        "colab": {
          "base_uri": "https://localhost:8080/"
        }
      },
      "outputs": [
        {
          "output_type": "execute_result",
          "data": {
            "text/plain": [
              "[('los', ((2, 1), 0.17609125905568124)),\n",
              " ('los', ((1, 1), 0.17609125905568124)),\n",
              " ('irán', ((2, 1), 0.47712125471966244)),\n",
              " ('integrando', ((2, 1), 0.47712125471966244)),\n",
              " ('espaciales', ((2, 1), 0.47712125471966244)),\n",
              " ('estudiando', ((1, 1), 0.47712125471966244)),\n",
              " ('con', ((1, 1), 0.47712125471966244)),\n",
              " ('cráteres', ((1, 1), 0.47712125471966244)),\n",
              " ('detectar', ((3, 1), 0.47712125471966244)),\n",
              " ('La', ((1, 1), 0.47712125471966244)),\n",
              " ('está', ((1, 1), 0.47712125471966244)),\n",
              " ('se', ((3, 1), 0.47712125471966244)),\n",
              " ('a', ((3, 1), 0.17609125905568124)),\n",
              " ('a', ((2, 1), 0.17609125905568124)),\n",
              " ('cómo', ((3, 1), 0.47712125471966244)),\n",
              " ('la', ((2, 1), 0.47712125471966244)),\n",
              " ('Inteligencia', ((2, 1), 0.47712125471966244)),\n",
              " ('las', ((2, 1), 0.47712125471966244)),\n",
              " ('naves', ((2, 1), 0.47712125471966244)),\n",
              " ('NASA', ((2, 1), 0.17609125905568124)),\n",
              " ('NASA', ((1, 1), 0.17609125905568124)),\n",
              " ('Artificial', ((2, 1), 0.47712125471966244)),\n",
              " ('inteligencia', ((1, 1), 0.47712125471966244)),\n",
              " ('artificial', ((1, 1), 0.47712125471966244)),\n",
              " ('enseña', ((3, 1), 0.47712125471966244)),\n",
              " ('al', ((3, 1), 0.47712125471966244)),\n",
              " ('algoritmo', ((3, 1), 0.47712125471966244)),\n",
              " ('cráter', ((3, 1), 0.47712125471966244)),\n",
              " ('de', ((1, 1), 0.17609125905568124)),\n",
              " ('de', ((2, 1), 0.17609125905568124)),\n",
              " ('Marte', ((1, 1), 0.47712125471966244)),\n",
              " ('un', ((3, 1), 0.47712125471966244)),\n",
              " ('nuevo', ((3, 1), 0.47712125471966244)),\n",
              " ('investigadores', ((2, 1), 0.47712125471966244))]"
            ]
          },
          "metadata": {},
          "execution_count": 16
        }
      ],
      "source": [
        "rdd=tf.join(idf)\n",
        "rdd.collect()"
      ]
    },
    {
      "cell_type": "code",
      "execution_count": 17,
      "id": "2a22df51",
      "metadata": {
        "id": "2a22df51",
        "outputId": "803623ca-dfa8-4a0d-f112-012943e82a49",
        "colab": {
          "base_uri": "https://localhost:8080/"
        }
      },
      "outputs": [
        {
          "output_type": "execute_result",
          "data": {
            "text/plain": [
              "[(1, ('los', 1, 0.17609125905568124, 0.17609125905568124)),\n",
              " (1, ('estudiando', 1, 0.47712125471966244, 0.47712125471966244)),\n",
              " (1, ('con', 1, 0.47712125471966244, 0.47712125471966244)),\n",
              " (1, ('cráteres', 1, 0.47712125471966244, 0.47712125471966244)),\n",
              " (1, ('La', 1, 0.47712125471966244, 0.47712125471966244)),\n",
              " (1, ('está', 1, 0.47712125471966244, 0.47712125471966244)),\n",
              " (1, ('NASA', 1, 0.17609125905568124, 0.17609125905568124)),\n",
              " (1, ('inteligencia', 1, 0.47712125471966244, 0.47712125471966244)),\n",
              " (1, ('artificial', 1, 0.47712125471966244, 0.47712125471966244)),\n",
              " (1, ('de', 1, 0.17609125905568124, 0.17609125905568124)),\n",
              " (1, ('Marte', 1, 0.47712125471966244, 0.47712125471966244)),\n",
              " (2, ('los', 1, 0.17609125905568124, 0.17609125905568124)),\n",
              " (2, ('irán', 1, 0.47712125471966244, 0.47712125471966244)),\n",
              " (2, ('integrando', 1, 0.47712125471966244, 0.47712125471966244)),\n",
              " (2, ('espaciales', 1, 0.47712125471966244, 0.47712125471966244)),\n",
              " (2, ('a', 1, 0.17609125905568124, 0.17609125905568124)),\n",
              " (2, ('la', 1, 0.47712125471966244, 0.47712125471966244)),\n",
              " (2, ('Inteligencia', 1, 0.47712125471966244, 0.47712125471966244)),\n",
              " (2, ('las', 1, 0.47712125471966244, 0.47712125471966244)),\n",
              " (2, ('naves', 1, 0.47712125471966244, 0.47712125471966244)),\n",
              " (2, ('NASA', 1, 0.17609125905568124, 0.17609125905568124)),\n",
              " (2, ('Artificial', 1, 0.47712125471966244, 0.47712125471966244)),\n",
              " (2, ('de', 1, 0.17609125905568124, 0.17609125905568124)),\n",
              " (2, ('investigadores', 1, 0.47712125471966244, 0.47712125471966244)),\n",
              " (3, ('detectar', 1, 0.47712125471966244, 0.47712125471966244)),\n",
              " (3, ('se', 1, 0.47712125471966244, 0.47712125471966244)),\n",
              " (3, ('a', 1, 0.17609125905568124, 0.17609125905568124)),\n",
              " (3, ('cómo', 1, 0.47712125471966244, 0.47712125471966244)),\n",
              " (3, ('enseña', 1, 0.47712125471966244, 0.47712125471966244)),\n",
              " (3, ('al', 1, 0.47712125471966244, 0.47712125471966244)),\n",
              " (3, ('algoritmo', 1, 0.47712125471966244, 0.47712125471966244)),\n",
              " (3, ('cráter', 1, 0.47712125471966244, 0.47712125471966244)),\n",
              " (3, ('un', 1, 0.47712125471966244, 0.47712125471966244)),\n",
              " (3, ('nuevo', 1, 0.47712125471966244, 0.47712125471966244))]"
            ]
          },
          "metadata": {},
          "execution_count": 17
        }
      ],
      "source": [
        "rdd=rdd.map(lambda x: (x[1][0][0],(x[0],x[1][0][1],x[1][1],x[1][0][1]*x[1][1]))).sortByKey()\n",
        "rdd.collect()"
      ]
    },
    {
      "cell_type": "code",
      "execution_count": 23,
      "id": "04b4dc6c",
      "metadata": {
        "id": "04b4dc6c",
        "outputId": "8e1c5aa3-f18c-4ae2-b302-640a66867833",
        "colab": {
          "base_uri": "https://localhost:8080/"
        }
      },
      "outputs": [
        {
          "output_type": "execute_result",
          "data": {
            "text/plain": [
              "PythonRDD[36] at RDD at PythonRDD.scala:53"
            ]
          },
          "metadata": {},
          "execution_count": 23
        }
      ],
      "source": [
        "# Mostrar el TD-IDF\n",
        "rdd=rdd.map(lambda x: (x[0],x[1][0],x[1][1],x[1][2],x[1][3]))\n",
        "rdd"
      ]
    }
  ],
  "metadata": {
    "kernelspec": {
      "display_name": "Python 3 (ipykernel)",
      "language": "python",
      "name": "python3"
    },
    "language_info": {
      "codemirror_mode": {
        "name": "ipython",
        "version": 3
      },
      "file_extension": ".py",
      "mimetype": "text/x-python",
      "name": "python",
      "nbconvert_exporter": "python",
      "pygments_lexer": "ipython3",
      "version": "3.9.6"
    },
    "colab": {
      "name": "Practica TF-IDF.ipynb",
      "provenance": []
    }
  },
  "nbformat": 4,
  "nbformat_minor": 5
}